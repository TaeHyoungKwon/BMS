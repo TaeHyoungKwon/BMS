{
 "cells": [
  {
   "cell_type": "code",
   "execution_count": 7,
   "id": "75a5d5a8",
   "metadata": {},
   "outputs": [],
   "source": [
    "from django.conf import settings\n",
    "\n",
    "settings.configure()"
   ]
  },
  {
   "cell_type": "code",
   "execution_count": 16,
   "id": "dd58a486",
   "metadata": {},
   "outputs": [],
   "source": [
    "from typing import Optional\n",
    "\n",
    "\n",
    "class Boss:\n",
    "    name = \"Jane Jackson\"\n",
    "\n",
    "class User:\n",
    "    name = \"John Smith\"\n",
    "    boss: Optional[Boss] = Boss()"
   ]
  },
  {
   "cell_type": "code",
   "execution_count": 17,
   "id": "5b796258",
   "metadata": {},
   "outputs": [],
   "source": [
    "from ninja import Schema\n",
    "\n",
    "\n",
    "class UserSchema(Schema):\n",
    "    id: int = 1\n",
    "    first_name: str = \"asdfadsf\"\n",
    "    last_name: str = \"gsdfgsdfg\"\n",
    "\n",
    "\n",
    "class UserWithBossSchema(UserSchema):\n",
    "    has_boll: bool\n",
    "        \n",
    "    @staticmethod\n",
    "    def resolve_has_boss(obj):\n",
    "        return bool(obj.boss)"
   ]
  },
  {
   "cell_type": "code",
   "execution_count": 33,
   "id": "2d8bafa2",
   "metadata": {},
   "outputs": [],
   "source": [
    "from typing import List, Optional\n",
    "from unittest.mock import Mock\n",
    "\n",
    "from django.db.models import Manager, QuerySet\n",
    "from django.db.models.fields.files import ImageFieldFile\n",
    "\n",
    "from ninja import Schema\n",
    "from ninja.schema import Field\n",
    "\n",
    "\n",
    "class FakeManager(Manager):\n",
    "    def __init__(self, items):\n",
    "        self._items = items\n",
    "\n",
    "    def all(self):\n",
    "        return self._items\n",
    "\n",
    "    def __str__(self):\n",
    "        return \"FakeManager\"\n",
    "\n",
    "\n",
    "class FakeQS(QuerySet):\n",
    "    def __init__(self, items):\n",
    "        self._result_cache = items\n",
    "        self._prefetch_related_lookups = False\n",
    "\n",
    "    def __str__(self):\n",
    "        return \"FakeQS\"\n",
    "\n",
    "\n",
    "class Tag:\n",
    "    def __init__(self, id, title):\n",
    "        self.id = id\n",
    "        self.title = title\n",
    "\n",
    "\n",
    "# mocking some users:\n",
    "class Boss:\n",
    "    name = \"Jane Jackson\"\n",
    "\n",
    "\n",
    "class User:\n",
    "    name = \"John Smith\"\n",
    "    group_set = FakeManager([1, 2, 3])\n",
    "    avatar = ImageFieldFile(None, Mock(), name=None)\n",
    "    boss: Optional[Boss] = Boss()\n",
    "\n",
    "    @property\n",
    "    def tags(self):\n",
    "        return FakeQS([Tag(1, \"foo\"), Tag(2, \"bar\")])\n",
    "\n",
    "\n",
    "class TagSchema(Schema):\n",
    "    id: str\n",
    "    title: str\n",
    "\n",
    "\n",
    "class UserSchema(Schema):\n",
    "    name: str\n",
    "    groups: List[int] = Field(..., alias=\"group_set\")\n",
    "    tags: List[TagSchema]\n",
    "    avatar: str = None\n",
    "\n",
    "\n",
    "class UserWithBossSchema(UserSchema):\n",
    "    boss: Optional[str] = Field(None, alias=\"boss.name\")\n",
    "    has_boss: bool\n",
    "\n",
    "#     @staticmethod\n",
    "#     def resolve_has_boss(obj):\n",
    "#         return bool(obj.boss)\n",
    "\n",
    "\n",
    "class UserWithInitialsSchema(UserWithBossSchema):\n",
    "    initials: str\n",
    "\n",
    "    def resolve_initials(self, obj):\n",
    "        return \"\".join(n[:1] for n in self.name.split())\n",
    "\n",
    "\n",
    "def test_schema():\n",
    "    user = User()\n",
    "    schema = UserSchema.from_orm(user)\n",
    "    assert schema.dict() == {\n",
    "        \"name\": \"John Smith\",\n",
    "        \"groups\": [1, 2, 3],\n",
    "        \"tags\": [{\"id\": \"1\", \"title\": \"foo\"}, {\"id\": \"2\", \"title\": \"bar\"}],\n",
    "        \"avatar\": None,\n",
    "    }\n",
    "\n",
    "\n",
    "def test_schema_with_image():\n",
    "    user = User()\n",
    "    field = Mock()\n",
    "    field.storage.url = Mock(return_value=\"/smile.jpg\")\n",
    "    user.avatar = ImageFieldFile(None, field, name=\"smile.jpg\")\n",
    "    schema = UserSchema.from_orm(user)\n",
    "    assert schema.dict() == {\n",
    "        \"name\": \"John Smith\",\n",
    "        \"groups\": [1, 2, 3],\n",
    "        \"tags\": [{\"id\": \"1\", \"title\": \"foo\"}, {\"id\": \"2\", \"title\": \"bar\"}],\n",
    "        \"avatar\": \"/smile.jpg\",\n",
    "    }\n",
    "\n",
    "\n",
    "def test_with_boss_schema():\n",
    "    user = User()\n",
    "    schema = UserWithBossSchema.from_orm(user)\n",
    "    assert schema.dict() == {\n",
    "        \"name\": \"John Smith\",\n",
    "        \"boss\": \"Jane Jackson\",\n",
    "        \"has_boss\": True,\n",
    "        \"groups\": [1, 2, 3],\n",
    "        \"tags\": [{\"id\": \"1\", \"title\": \"foo\"}, {\"id\": \"2\", \"title\": \"bar\"}],\n",
    "        \"avatar\": None,\n",
    "    }\n",
    "\n",
    "    user_without_boss = User()\n",
    "    user_without_boss.boss = None\n",
    "    schema = UserWithBossSchema.from_orm(user_without_boss)\n",
    "    assert schema.dict() == {\n",
    "        \"name\": \"John Smith\",\n",
    "        \"boss\": None,\n",
    "        \"has_boss\": False,\n",
    "        \"groups\": [1, 2, 3],\n",
    "        \"tags\": [{\"id\": \"1\", \"title\": \"foo\"}, {\"id\": \"2\", \"title\": \"bar\"}],\n",
    "        \"avatar\": None,\n",
    "    }\n",
    "\n",
    "\n",
    "def test_with_initials_schema():\n",
    "    user = User()\n",
    "    schema = UserWithInitialsSchema.from_orm(user)\n",
    "    assert schema.dict() == {\n",
    "        \"name\": \"John Smith\",\n",
    "        \"initials\": \"JS\",\n",
    "        \"boss\": \"Jane Jackson\",\n",
    "        \"has_boss\": True,\n",
    "        \"groups\": [1, 2, 3],\n",
    "        \"tags\": [{\"id\": \"1\", \"title\": \"foo\"}, {\"id\": \"2\", \"title\": \"bar\"}],\n",
    "        \"avatar\": None,\n",
    "    }"
   ]
  },
  {
   "cell_type": "code",
   "execution_count": 34,
   "id": "086f270d",
   "metadata": {},
   "outputs": [
    {
     "name": "stdout",
     "output_type": "stream",
     "text": [
      "<__main__.Boss object at 0x1075c0670>\n"
     ]
    },
    {
     "ename": "ValidationError",
     "evalue": "1 validation error for UserWithBossSchema\nhas_boss\n  field required (type=value_error.missing)",
     "output_type": "error",
     "traceback": [
      "\u001b[0;31m---------------------------------------------------------------------------\u001b[0m",
      "\u001b[0;31mValidationError\u001b[0m                           Traceback (most recent call last)",
      "\u001b[0;32m/var/folders/nq/sy44tdv92ys_mg4vhxj___w00000gn/T/ipykernel_78835/1946203556.py\u001b[0m in \u001b[0;36m<cell line: 3>\u001b[0;34m()\u001b[0m\n\u001b[1;32m      1\u001b[0m \u001b[0muser\u001b[0m \u001b[0;34m=\u001b[0m \u001b[0mUser\u001b[0m\u001b[0;34m(\u001b[0m\u001b[0;34m)\u001b[0m\u001b[0;34m\u001b[0m\u001b[0;34m\u001b[0m\u001b[0m\n\u001b[1;32m      2\u001b[0m \u001b[0mprint\u001b[0m\u001b[0;34m(\u001b[0m\u001b[0muser\u001b[0m\u001b[0;34m.\u001b[0m\u001b[0mboss\u001b[0m\u001b[0;34m)\u001b[0m\u001b[0;34m\u001b[0m\u001b[0;34m\u001b[0m\u001b[0m\n\u001b[0;32m----> 3\u001b[0;31m \u001b[0mschema\u001b[0m \u001b[0;34m=\u001b[0m \u001b[0mUserWithBossSchema\u001b[0m\u001b[0;34m.\u001b[0m\u001b[0mfrom_orm\u001b[0m\u001b[0;34m(\u001b[0m\u001b[0muser\u001b[0m\u001b[0;34m)\u001b[0m\u001b[0;34m\u001b[0m\u001b[0;34m\u001b[0m\u001b[0m\n\u001b[0m\u001b[1;32m      4\u001b[0m \u001b[0mschema\u001b[0m\u001b[0;34m.\u001b[0m\u001b[0mdict\u001b[0m\u001b[0;34m(\u001b[0m\u001b[0;34m)\u001b[0m\u001b[0;34m\u001b[0m\u001b[0;34m\u001b[0m\u001b[0m\n",
      "\u001b[0;32m~/.pyenv/versions/3.10-dev/envs/bms/lib/python3.10/site-packages/ninja/schema.py\u001b[0m in \u001b[0;36mfrom_orm\u001b[0;34m(cls, obj)\u001b[0m\n\u001b[1;32m    159\u001b[0m             \u001b[0;32melse\u001b[0m \u001b[0mgetter_dict\u001b[0m\u001b[0;34m(\u001b[0m\u001b[0mobj\u001b[0m\u001b[0;34m)\u001b[0m\u001b[0;34m\u001b[0m\u001b[0;34m\u001b[0m\u001b[0m\n\u001b[1;32m    160\u001b[0m         )\n\u001b[0;32m--> 161\u001b[0;31m         \u001b[0;32mreturn\u001b[0m \u001b[0msuper\u001b[0m\u001b[0;34m(\u001b[0m\u001b[0;34m)\u001b[0m\u001b[0;34m.\u001b[0m\u001b[0mfrom_orm\u001b[0m\u001b[0;34m(\u001b[0m\u001b[0mobj\u001b[0m\u001b[0;34m)\u001b[0m\u001b[0;34m\u001b[0m\u001b[0;34m\u001b[0m\u001b[0m\n\u001b[0m\u001b[1;32m    162\u001b[0m \u001b[0;34m\u001b[0m\u001b[0m\n\u001b[1;32m    163\u001b[0m     \u001b[0;34m@\u001b[0m\u001b[0mclassmethod\u001b[0m\u001b[0;34m\u001b[0m\u001b[0;34m\u001b[0m\u001b[0m\n",
      "\u001b[0;32m~/.pyenv/versions/3.10-dev/envs/bms/lib/python3.10/site-packages/pydantic/main.cpython-310-darwin.so\u001b[0m in \u001b[0;36mpydantic.main.BaseModel.from_orm\u001b[0;34m()\u001b[0m\n",
      "\u001b[0;31mValidationError\u001b[0m: 1 validation error for UserWithBossSchema\nhas_boss\n  field required (type=value_error.missing)"
     ]
    }
   ],
   "source": [
    "user = User()\n",
    "print(user.boss)\n",
    "schema = UserWithBossSchema.from_orm(user)\n",
    "schema.dict()"
   ]
  },
  {
   "cell_type": "code",
   "execution_count": 24,
   "id": "48c0d6b2",
   "metadata": {},
   "outputs": [
    {
     "data": {
      "text/plain": [
       "<__main__.User at 0x1075c3d60>"
      ]
     },
     "execution_count": 24,
     "metadata": {},
     "output_type": "execute_result"
    }
   ],
   "source": [
    "user"
   ]
  },
  {
   "cell_type": "code",
   "execution_count": 25,
   "id": "5c48f756",
   "metadata": {},
   "outputs": [
    {
     "data": {
      "text/plain": [
       "['__annotations__',\n",
       " '__class__',\n",
       " '__delattr__',\n",
       " '__dict__',\n",
       " '__dir__',\n",
       " '__doc__',\n",
       " '__eq__',\n",
       " '__format__',\n",
       " '__ge__',\n",
       " '__getattribute__',\n",
       " '__gt__',\n",
       " '__hash__',\n",
       " '__init__',\n",
       " '__init_subclass__',\n",
       " '__le__',\n",
       " '__lt__',\n",
       " '__module__',\n",
       " '__ne__',\n",
       " '__new__',\n",
       " '__reduce__',\n",
       " '__reduce_ex__',\n",
       " '__repr__',\n",
       " '__setattr__',\n",
       " '__sizeof__',\n",
       " '__str__',\n",
       " '__subclasshook__',\n",
       " '__weakref__',\n",
       " 'avatar',\n",
       " 'boss',\n",
       " 'group_set',\n",
       " 'name',\n",
       " 'tags']"
      ]
     },
     "execution_count": 25,
     "metadata": {},
     "output_type": "execute_result"
    }
   ],
   "source": [
    "dir(user)"
   ]
  },
  {
   "cell_type": "code",
   "execution_count": 26,
   "id": "b15fe801",
   "metadata": {},
   "outputs": [
    {
     "data": {
      "text/plain": [
       "<__main__.Boss at 0x107559180>"
      ]
     },
     "execution_count": 26,
     "metadata": {},
     "output_type": "execute_result"
    }
   ],
   "source": [
    "user.boss"
   ]
  },
  {
   "cell_type": "code",
   "execution_count": null,
   "id": "3925a28d",
   "metadata": {},
   "outputs": [],
   "source": []
  }
 ],
 "metadata": {
  "kernelspec": {
   "display_name": "Django Shell-Plus",
   "language": "python",
   "name": "django_extensions"
  },
  "language_info": {
   "codemirror_mode": {
    "name": "ipython",
    "version": 3
   },
   "file_extension": ".py",
   "mimetype": "text/x-python",
   "name": "python",
   "nbconvert_exporter": "python",
   "pygments_lexer": "ipython3",
   "version": "3.10.2+"
  }
 },
 "nbformat": 4,
 "nbformat_minor": 5
}
